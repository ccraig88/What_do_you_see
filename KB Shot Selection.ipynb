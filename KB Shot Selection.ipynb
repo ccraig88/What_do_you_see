{
 "cells": [
  {
   "cell_type": "code",
   "execution_count": 3,
   "metadata": {},
   "outputs": [],
   "source": [
    "import matplotlib.pyplot as plt\n",
    "import numpy as np\n",
    "import pandas as pd\n",
    "%matplotlib inline"
   ]
  },
  {
   "cell_type": "code",
   "execution_count": 4,
   "metadata": {},
   "outputs": [],
   "source": [
    "data = pd.read_csv('kbshot_logs.csv')"
   ]
  },
  {
   "cell_type": "code",
   "execution_count": 8,
   "metadata": {},
   "outputs": [
    {
     "data": {
      "image/png": "[encoded data removed]",
      "text/plain": [
       "<matplotlib.figure.Figure at 0x10e8a358>"
      ]
     },
     "metadata": {},
     "output_type": "display_data"
    }
   ],
   "source": [
    "plt.hist(data['SHOT_DIST'], bins = 5, color='red')\n",
    "plt.title('Kobe Bryant 14-15 Shot Selection')\n",
    "plt.xlabel('Shot Distance Feet')\n",
    "plt.show()"
   ]
  },
  {
   "cell_type": "code",
   "execution_count": 11,
   "metadata": {},
   "outputs": [],
   "source": [
    "#The histogram above shows that Kobe Bryant took the most shots from around approx 15 - 25 \n",
    "#feet from the basket in this sample size from the 2014 - 2015 season. This visual also shows how few shots Kobe Bryant\n",
    "#attempted from greater than 30 feet from the basket."
   ]
  },
  {
   "cell_type": "code",
   "execution_count": 48,
   "metadata": {},
   "outputs": [
    {
     "data": {
      "text/html": [
       "<div>\n",
       "<style scoped>\n",
       "    .dataframe tbody tr th:only-of-type {\n",
       "        vertical-align: middle;\n",
       "    }\n",
       "\n",
       "    .dataframe tbody tr th {\n",
       "        vertical-align: top;\n",
       "    }\n",
       "\n",
       "    .dataframe thead th {\n",
       "        text-align: right;\n",
       "    }\n",
       "</style>\n",
       "<table border=\"1\" class=\"dataframe\">\n",
       "  <thead>\n",
       "    <tr style=\"text-align: right;\">\n",
       "      <th></th>\n",
       "      <th>GAME_ID</th>\n",
       "      <th>FINAL_MARGIN</th>\n",
       "      <th>SHOT_NUMBER</th>\n",
       "      <th>PERIOD</th>\n",
       "      <th>SHOT_CLOCK</th>\n",
       "      <th>DRIBBLES</th>\n",
       "      <th>TOUCH_TIME</th>\n",
       "      <th>SHOT_DIST</th>\n",
       "      <th>PTS_TYPE</th>\n",
       "      <th>CLOSEST_DEFENDER_PLAYER_ID</th>\n",
       "      <th>CLOSE_DEF_DIST</th>\n",
       "      <th>FGM</th>\n",
       "      <th>PTS</th>\n",
       "      <th>player_id</th>\n",
       "    </tr>\n",
       "    <tr>\n",
       "      <th>LOCATION</th>\n",
       "      <th></th>\n",
       "      <th></th>\n",
       "      <th></th>\n",
       "      <th></th>\n",
       "      <th></th>\n",
       "      <th></th>\n",
       "      <th></th>\n",
       "      <th></th>\n",
       "      <th></th>\n",
       "      <th></th>\n",
       "      <th></th>\n",
       "      <th></th>\n",
       "      <th></th>\n",
       "      <th></th>\n",
       "    </tr>\n",
       "  </thead>\n",
       "  <tbody>\n",
       "    <tr>\n",
       "      <th>A</th>\n",
       "      <td>2.140025e+07</td>\n",
       "      <td>-9.711538</td>\n",
       "      <td>12.076923</td>\n",
       "      <td>2.436813</td>\n",
       "      <td>11.793093</td>\n",
       "      <td>3.585165</td>\n",
       "      <td>4.581319</td>\n",
       "      <td>16.961538</td>\n",
       "      <td>2.277473</td>\n",
       "      <td>168775.582418</td>\n",
       "      <td>3.300824</td>\n",
       "      <td>0.368132</td>\n",
       "      <td>0.824176</td>\n",
       "      <td>977.0</td>\n",
       "    </tr>\n",
       "    <tr>\n",
       "      <th>H</th>\n",
       "      <td>2.140025e+07</td>\n",
       "      <td>-5.300860</td>\n",
       "      <td>11.478510</td>\n",
       "      <td>2.581662</td>\n",
       "      <td>12.404062</td>\n",
       "      <td>3.401146</td>\n",
       "      <td>4.682808</td>\n",
       "      <td>15.885387</td>\n",
       "      <td>2.237822</td>\n",
       "      <td>158833.438395</td>\n",
       "      <td>3.170201</td>\n",
       "      <td>0.378223</td>\n",
       "      <td>0.819484</td>\n",
       "      <td>977.0</td>\n",
       "    </tr>\n",
       "  </tbody>\n",
       "</table>\n",
       "</div>"
      ],
      "text/plain": [
       "               GAME_ID  FINAL_MARGIN  SHOT_NUMBER    PERIOD  SHOT_CLOCK  \\\n",
       "LOCATION                                                                  \n",
       "A         2.140025e+07     -9.711538    12.076923  2.436813   11.793093   \n",
       "H         2.140025e+07     -5.300860    11.478510  2.581662   12.404062   \n",
       "\n",
       "          DRIBBLES  TOUCH_TIME  SHOT_DIST  PTS_TYPE  \\\n",
       "LOCATION                                              \n",
       "A         3.585165    4.581319  16.961538  2.277473   \n",
       "H         3.401146    4.682808  15.885387  2.237822   \n",
       "\n",
       "          CLOSEST_DEFENDER_PLAYER_ID  CLOSE_DEF_DIST       FGM       PTS  \\\n",
       "LOCATION                                                                   \n",
       "A                      168775.582418        3.300824  0.368132  0.824176   \n",
       "H                      158833.438395        3.170201  0.378223  0.819484   \n",
       "\n",
       "          player_id  \n",
       "LOCATION             \n",
       "A             977.0  \n",
       "H             977.0  "
      ]
     },
     "execution_count": 48,
     "metadata": {},
     "output_type": "execute_result"
    }
   ],
   "source": [
    "data.groupby('LOCATION').mean()"
   ]
  },
  {
   "cell_type": "code",
   "execution_count": null,
   "metadata": {},
   "outputs": [],
   "source": [
    "#The visual above shows averages for Kobe Bryant differentiated between home games and away games. Kobe, on average,\n",
    "#shot the ball from a greater distance during away games. In both home and away games, Kobe averaged the most shots in the \n",
    "#second quarter"
   ]
  },
  {
   "cell_type": "code",
   "execution_count": 54,
   "metadata": {},
   "outputs": [
    {
     "data": {
      "text/html": [
       "<div>\n",
       "<style scoped>\n",
       "    .dataframe tbody tr th:only-of-type {\n",
       "        vertical-align: middle;\n",
       "    }\n",
       "\n",
       "    .dataframe tbody tr th {\n",
       "        vertical-align: top;\n",
       "    }\n",
       "\n",
       "    .dataframe thead th {\n",
       "        text-align: right;\n",
       "    }\n",
       "</style>\n",
       "<table border=\"1\" class=\"dataframe\">\n",
       "  <thead>\n",
       "    <tr style=\"text-align: right;\">\n",
       "      <th></th>\n",
       "      <th>GAME_ID</th>\n",
       "      <th>FINAL_MARGIN</th>\n",
       "      <th>SHOT_NUMBER</th>\n",
       "      <th>PERIOD</th>\n",
       "      <th>SHOT_CLOCK</th>\n",
       "      <th>DRIBBLES</th>\n",
       "      <th>TOUCH_TIME</th>\n",
       "      <th>SHOT_DIST</th>\n",
       "      <th>PTS_TYPE</th>\n",
       "      <th>CLOSEST_DEFENDER_PLAYER_ID</th>\n",
       "      <th>CLOSE_DEF_DIST</th>\n",
       "      <th>FGM</th>\n",
       "      <th>PTS</th>\n",
       "      <th>player_id</th>\n",
       "    </tr>\n",
       "    <tr>\n",
       "      <th>W</th>\n",
       "      <th></th>\n",
       "      <th></th>\n",
       "      <th></th>\n",
       "      <th></th>\n",
       "      <th></th>\n",
       "      <th></th>\n",
       "      <th></th>\n",
       "      <th></th>\n",
       "      <th></th>\n",
       "      <th></th>\n",
       "      <th></th>\n",
       "      <th></th>\n",
       "      <th></th>\n",
       "      <th></th>\n",
       "    </tr>\n",
       "  </thead>\n",
       "  <tbody>\n",
       "    <tr>\n",
       "      <th>L</th>\n",
       "      <td>11085322898</td>\n",
       "      <td>-6568</td>\n",
       "      <td>6237</td>\n",
       "      <td>1275</td>\n",
       "      <td>5898.0</td>\n",
       "      <td>1719</td>\n",
       "      <td>2313.5</td>\n",
       "      <td>8423.8</td>\n",
       "      <td>1172</td>\n",
       "      <td>84091616</td>\n",
       "      <td>1647.4</td>\n",
       "      <td>186</td>\n",
       "      <td>410</td>\n",
       "      <td>506086</td>\n",
       "    </tr>\n",
       "    <tr>\n",
       "      <th>W</th>\n",
       "      <td>4173053495</td>\n",
       "      <td>1183</td>\n",
       "      <td>2165</td>\n",
       "      <td>513</td>\n",
       "      <td>1998.4</td>\n",
       "      <td>773</td>\n",
       "      <td>988.4</td>\n",
       "      <td>3294.2</td>\n",
       "      <td>438</td>\n",
       "      <td>32775566</td>\n",
       "      <td>660.5</td>\n",
       "      <td>80</td>\n",
       "      <td>176</td>\n",
       "      <td>190515</td>\n",
       "    </tr>\n",
       "  </tbody>\n",
       "</table>\n",
       "</div>"
      ],
      "text/plain": [
       "       GAME_ID  FINAL_MARGIN  SHOT_NUMBER  PERIOD  SHOT_CLOCK  DRIBBLES  \\\n",
       "W                                                                         \n",
       "L  11085322898         -6568         6237    1275      5898.0      1719   \n",
       "W   4173053495          1183         2165     513      1998.4       773   \n",
       "\n",
       "   TOUCH_TIME  SHOT_DIST  PTS_TYPE  CLOSEST_DEFENDER_PLAYER_ID  \\\n",
       "W                                                                \n",
       "L      2313.5     8423.8      1172                    84091616   \n",
       "W       988.4     3294.2       438                    32775566   \n",
       "\n",
       "   CLOSE_DEF_DIST  FGM  PTS  player_id  \n",
       "W                                       \n",
       "L          1647.4  186  410     506086  \n",
       "W           660.5   80  176     190515  "
      ]
     },
     "execution_count": 54,
     "metadata": {},
     "output_type": "execute_result"
    }
   ],
   "source": [
    "data.groupby('W').sum()"
   ]
  },
  {
   "cell_type": "code",
   "execution_count": null,
   "metadata": {},
   "outputs": [],
   "source": [
    "#The visual above shows totals for Kobe Bryant differentitated between wins and losses. Ironically, Kobe's scored less \n",
    "#during wins and scored more during losses. Kobe also touched the ball before a shot more in losses than wins"
   ]
  },
  {
   "cell_type": "code",
   "execution_count": 57,
   "metadata": {},
   "outputs": [
    {
     "data": {
      "text/html": [
       "<div>\n",
       "<style scoped>\n",
       "    .dataframe tbody tr th:only-of-type {\n",
       "        vertical-align: middle;\n",
       "    }\n",
       "\n",
       "    .dataframe tbody tr th {\n",
       "        vertical-align: top;\n",
       "    }\n",
       "\n",
       "    .dataframe thead th {\n",
       "        text-align: right;\n",
       "    }\n",
       "</style>\n",
       "<table border=\"1\" class=\"dataframe\">\n",
       "  <thead>\n",
       "    <tr style=\"text-align: right;\">\n",
       "      <th></th>\n",
       "      <th>GAME_ID</th>\n",
       "      <th>FINAL_MARGIN</th>\n",
       "      <th>SHOT_NUMBER</th>\n",
       "      <th>PERIOD</th>\n",
       "      <th>SHOT_CLOCK</th>\n",
       "      <th>DRIBBLES</th>\n",
       "      <th>TOUCH_TIME</th>\n",
       "      <th>SHOT_DIST</th>\n",
       "      <th>PTS_TYPE</th>\n",
       "      <th>CLOSEST_DEFENDER_PLAYER_ID</th>\n",
       "      <th>CLOSE_DEF_DIST</th>\n",
       "      <th>FGM</th>\n",
       "      <th>PTS</th>\n",
       "      <th>player_id</th>\n",
       "    </tr>\n",
       "    <tr>\n",
       "      <th>SHOT_RESULT</th>\n",
       "      <th></th>\n",
       "      <th></th>\n",
       "      <th></th>\n",
       "      <th></th>\n",
       "      <th></th>\n",
       "      <th></th>\n",
       "      <th></th>\n",
       "      <th></th>\n",
       "      <th></th>\n",
       "      <th></th>\n",
       "      <th></th>\n",
       "      <th></th>\n",
       "      <th></th>\n",
       "      <th></th>\n",
       "    </tr>\n",
       "  </thead>\n",
       "  <tbody>\n",
       "    <tr>\n",
       "      <th>made</th>\n",
       "      <td>2.140024e+07</td>\n",
       "      <td>-7.022556</td>\n",
       "      <td>11.469925</td>\n",
       "      <td>2.424812</td>\n",
       "      <td>12.721032</td>\n",
       "      <td>3.50000</td>\n",
       "      <td>4.790602</td>\n",
       "      <td>14.971053</td>\n",
       "      <td>2.203008</td>\n",
       "      <td>163731.800752</td>\n",
       "      <td>3.421429</td>\n",
       "      <td>1.0</td>\n",
       "      <td>2.203008</td>\n",
       "      <td>977.0</td>\n",
       "    </tr>\n",
       "    <tr>\n",
       "      <th>missed</th>\n",
       "      <td>2.140025e+07</td>\n",
       "      <td>-7.868009</td>\n",
       "      <td>11.970917</td>\n",
       "      <td>2.557047</td>\n",
       "      <td>11.697506</td>\n",
       "      <td>3.49217</td>\n",
       "      <td>4.536018</td>\n",
       "      <td>17.305817</td>\n",
       "      <td>2.290828</td>\n",
       "      <td>164014.592841</td>\n",
       "      <td>3.127069</td>\n",
       "      <td>0.0</td>\n",
       "      <td>0.000000</td>\n",
       "      <td>977.0</td>\n",
       "    </tr>\n",
       "  </tbody>\n",
       "</table>\n",
       "</div>"
      ],
      "text/plain": [
       "                  GAME_ID  FINAL_MARGIN  SHOT_NUMBER    PERIOD  SHOT_CLOCK  \\\n",
       "SHOT_RESULT                                                                  \n",
       "made         2.140024e+07     -7.022556    11.469925  2.424812   12.721032   \n",
       "missed       2.140025e+07     -7.868009    11.970917  2.557047   11.697506   \n",
       "\n",
       "             DRIBBLES  TOUCH_TIME  SHOT_DIST  PTS_TYPE  \\\n",
       "SHOT_RESULT                                              \n",
       "made          3.50000    4.790602  14.971053  2.203008   \n",
       "missed        3.49217    4.536018  17.305817  2.290828   \n",
       "\n",
       "             CLOSEST_DEFENDER_PLAYER_ID  CLOSE_DEF_DIST  FGM       PTS  \\\n",
       "SHOT_RESULT                                                              \n",
       "made                      163731.800752        3.421429  1.0  2.203008   \n",
       "missed                    164014.592841        3.127069  0.0  0.000000   \n",
       "\n",
       "             player_id  \n",
       "SHOT_RESULT             \n",
       "made             977.0  \n",
       "missed           977.0  "
      ]
     },
     "execution_count": 57,
     "metadata": {},
     "output_type": "execute_result"
    }
   ],
   "source": [
    "data.groupby('SHOT_RESULT').mean()"
   ]
  },
  {
   "cell_type": "code",
   "execution_count": null,
   "metadata": {},
   "outputs": [],
   "source": [
    "#The visual above shows averages for Kobe Bryant differentiated between made shots and missed shots. When Kobe made a shot,\n",
    "#the average closest defender distance was approx 3.4 feet. When Kobe mised a shot, he was missing them from an average of \n",
    "#approx 17.3 feet away from the basket."
   ]
  },
  {
   "cell_type": "code",
   "execution_count": 13,
   "metadata": {},
   "outputs": [
    {
     "data": {
      "image/png": "[encoded data removed]",
      "text/plain": [
       "<matplotlib.figure.Figure at 0x1227a4e0>"
      ]
     },
     "metadata": {},
     "output_type": "display_data"
    }
   ],
   "source": [
    "plt.figure(figsize=(10, 5))\n",
    "\n",
    "plt.subplot(1, 2, 1)\n",
    "plt.plot(data['TOUCH_TIME'], color = 'red')\n",
    "plt.ylabel('Time')\n",
    "plt.title('Kobe Bryant Touch Time')\n",
    "\n",
    "plt.subplot(1, 2, 2)\n",
    "plt.plot(data['CLOSE_DEF_DIST'], color = 'blue')\n",
    "plt.ylabel('Distance')\n",
    "plt.title('Kobe Bryant Shot Closest Defender Distance')\n",
    "plt.show()"
   ]
  },
  {
   "cell_type": "code",
   "execution_count": null,
   "metadata": {},
   "outputs": [],
   "source": [
    "#The subplots above show touch time when Kobe Bryant shot as well as the closest defender distance when Kobe Bryant attempted\n",
    "#a shot. We can see the ranges of both visuals. For example, we see that it was rare for a defender to be more than 8 feet away\n",
    "#from Kobe when he attempted a shot."
   ]
  }
 ],
 "metadata": {
  "kernelspec": {
   "display_name": "Python 3",
   "language": "python",
   "name": "python3"
  },
  "language_info": {
   "codemirror_mode": {
    "name": "ipython",
    "version": 3
   },
   "file_extension": ".py",
   "mimetype": "text/x-python",
   "name": "python",
   "nbconvert_exporter": "python",
   "pygments_lexer": "ipython3",
   "version": "3.6.3"
  }
 },
 "nbformat": 4,
 "nbformat_minor": 2
}
